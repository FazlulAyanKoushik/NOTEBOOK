{
 "cells": [
  {
   "cell_type": "code",
   "id": "initial_id",
   "metadata": {
    "collapsed": true,
    "ExecuteTime": {
     "end_time": "2025-09-21T04:47:28.778679Z",
     "start_time": "2025-09-21T04:47:27.378129Z"
    }
   },
   "source": [
    "import imaplib\n",
    "\n",
    "imap = imaplib.IMAP4_SSL(\"mail1014.onamae.ne.jp\")  # or try mail1014.onamae.ne.jp\n",
    "imap.login(\"hr@jbc-ltd.com\", \"hRjbc2023!\")\n",
    "print(imap.list())  # list available folders\n",
    "imap.logout()\n"
   ],
   "outputs": [
    {
     "name": "stdout",
     "output_type": "stream",
     "text": [
      "('OK', [b'(\\\\HasNoChildren \\\\Junk) \"/\" Junk', b'(\\\\HasNoChildren \\\\Drafts) \"/\" Drafts', b'(\\\\HasNoChildren \\\\Trash) \"/\" Trash', b'(\\\\HasNoChildren \\\\Sent) \"/\" Sent', b'(\\\\HasNoChildren) \"/\" INBOX'])\n"
     ]
    },
    {
     "data": {
      "text/plain": [
       "('BYE', [b'Logging out'])"
      ]
     },
     "execution_count": 2,
     "metadata": {},
     "output_type": "execute_result"
    }
   ],
   "execution_count": 2
  },
  {
   "metadata": {},
   "cell_type": "code",
   "outputs": [],
   "execution_count": null,
   "source": "",
   "id": "da66940e107a4142"
  }
 ],
 "metadata": {
  "kernelspec": {
   "display_name": "Python 3",
   "language": "python",
   "name": "python3"
  },
  "language_info": {
   "codemirror_mode": {
    "name": "ipython",
    "version": 2
   },
   "file_extension": ".py",
   "mimetype": "text/x-python",
   "name": "python",
   "nbconvert_exporter": "python",
   "pygments_lexer": "ipython2",
   "version": "2.7.6"
  }
 },
 "nbformat": 4,
 "nbformat_minor": 5
}
